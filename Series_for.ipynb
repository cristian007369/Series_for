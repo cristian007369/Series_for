{
  "nbformat": 4,
  "nbformat_minor": 0,
  "metadata": {
    "colab": {
      "provenance": [],
      "authorship_tag": "ABX9TyPKM1d6HVuKK5rmuo7in5TJ",
      "include_colab_link": true
    },
    "kernelspec": {
      "name": "python3",
      "display_name": "Python 3"
    },
    "language_info": {
      "name": "python"
    }
  },
  "cells": [
    {
      "cell_type": "markdown",
      "metadata": {
        "id": "view-in-github",
        "colab_type": "text"
      },
      "source": [
        "<a href=\"https://colab.research.google.com/github/cristian007369/Series_for/blob/main/Series_for.ipynb\" target=\"_parent\"><img src=\"https://colab.research.google.com/assets/colab-badge.svg\" alt=\"Open In Colab\"/></a>"
      ]
    },
    {
      "cell_type": "markdown",
      "source": [
        "# Series usando for\n"
      ],
      "metadata": {
        "id": "3cGQHGZyFzlq"
      }
    },
    {
      "cell_type": "code",
      "source": [
        "# Serie 1: 1,2,3....,10\n",
        "\n",
        "print(\"-----------------------\")\n",
        "print(\"--------Serie 1--------\")\n",
        "print(\"-----------------------\")\n",
        "\n",
        "s = \"Serie: {\"\n",
        "for i in range(1,11):\n",
        "  if i<10:\n",
        "    s += str(i)+\", \"\n",
        "  else:\n",
        "    s += str(i)+\"}\"\n",
        "print(s)"
      ],
      "metadata": {
        "id": "TCN3_wJ9GquK"
      },
      "execution_count": null,
      "outputs": []
    },
    {
      "cell_type": "code",
      "source": [
        "# Serie 2: 1,4,9,16,25,36...\n",
        "\n",
        "print(\"-----------------------\")\n",
        "print(\"--------Serie 2--------\")\n",
        "print(\"-----------------------\")\n",
        "\n",
        "for i in range(1,11):\n",
        "  if i<10:\n",
        "    s += str(i**2)+\", \"\n",
        "  else:\n",
        "    s += str(i**2)+\"}\"\n",
        "print(s)"
      ],
      "metadata": {
        "id": "SVZ7QOA_I43K"
      },
      "execution_count": null,
      "outputs": []
    },
    {
      "cell_type": "code",
      "source": [
        "# Serie 3: 2,4,8,16...\n",
        "\n",
        "print(\"-----------------------\")\n",
        "print(\"--------Serie 3--------\")\n",
        "print(\"-----------------------\")\n",
        "\n",
        "s = \"Serie: {\"\n",
        "for i in range(1,11):\n",
        "  if i<10:\n",
        "    s += str(2**i) + \", \"\n",
        "  else:\n",
        "    s += str(2**i) +\"}\"\n",
        "print(s)"
      ],
      "metadata": {
        "id": "SpT63UH8NN3P"
      },
      "execution_count": null,
      "outputs": []
    },
    {
      "cell_type": "code",
      "source": [
        "# Serie 4: 2,6,12,20,30,42,56...\n",
        "\n",
        "print(\"-----------------------\")\n",
        "print(\"--------Serie 3--------\")\n",
        "print(\"-----------------------\")\n",
        "\n",
        "s = \"Serie: {\"\n",
        "f=1\n",
        "for i in range(1,11):\n",
        "  if i<10:\n",
        "    s += str(i**2+i) + \", \"\n",
        "    f+=1\n",
        "  else:\n",
        "    s += str(i**2+i) +\"}\"\n",
        "print(s)"
      ],
      "metadata": {
        "colab": {
          "base_uri": "https://localhost:8080/"
        },
        "id": "MOsf-dW8PlsP",
        "outputId": "1fff0002-ddeb-4b8e-d011-342443ae1058"
      },
      "execution_count": 23,
      "outputs": [
        {
          "output_type": "stream",
          "name": "stdout",
          "text": [
            "-----------------------\n",
            "--------Serie 3--------\n",
            "-----------------------\n",
            "Serie: {2, 6, 12, 20, 30, 42, 56, 72, 90, 110}\n"
          ]
        }
      ]
    }
  ]
}